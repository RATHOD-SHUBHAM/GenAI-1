{
  "nbformat": 4,
  "nbformat_minor": 0,
  "metadata": {
    "colab": {
      "provenance": [],
      "gpuType": "T4"
    },
    "kernelspec": {
      "name": "python3",
      "display_name": "Python 3"
    },
    "language_info": {
      "name": "python"
    },
    "accelerator": "GPU",
    "widgets": {
      "application/vnd.jupyter.widget-state+json": {
        "31d5636d1c4e4339b21e2dd0e3e55584": {
          "model_module": "@jupyter-widgets/controls",
          "model_name": "HBoxModel",
          "model_module_version": "1.5.0",
          "state": {
            "_dom_classes": [],
            "_model_module": "@jupyter-widgets/controls",
            "_model_module_version": "1.5.0",
            "_model_name": "HBoxModel",
            "_view_count": null,
            "_view_module": "@jupyter-widgets/controls",
            "_view_module_version": "1.5.0",
            "_view_name": "HBoxView",
            "box_style": "",
            "children": [
              "IPY_MODEL_292e403f0f2b42e9acad9e5505735710",
              "IPY_MODEL_d38297882316438d921aff496243e4e5",
              "IPY_MODEL_15f96ab451b7493fb911be15754311d5"
            ],
            "layout": "IPY_MODEL_d5de8e2fb0984d5c840cd702f8448459"
          }
        },
        "292e403f0f2b42e9acad9e5505735710": {
          "model_module": "@jupyter-widgets/controls",
          "model_name": "HTMLModel",
          "model_module_version": "1.5.0",
          "state": {
            "_dom_classes": [],
            "_model_module": "@jupyter-widgets/controls",
            "_model_module_version": "1.5.0",
            "_model_name": "HTMLModel",
            "_view_count": null,
            "_view_module": "@jupyter-widgets/controls",
            "_view_module_version": "1.5.0",
            "_view_name": "HTMLView",
            "description": "",
            "description_tooltip": null,
            "layout": "IPY_MODEL_81ba033c2dbc4eb0a52cb4a37cc4542c",
            "placeholder": "​",
            "style": "IPY_MODEL_e146dc9a87d9495b9f865871a3b557e3",
            "value": "Loading checkpoint shards: 100%"
          }
        },
        "d38297882316438d921aff496243e4e5": {
          "model_module": "@jupyter-widgets/controls",
          "model_name": "FloatProgressModel",
          "model_module_version": "1.5.0",
          "state": {
            "_dom_classes": [],
            "_model_module": "@jupyter-widgets/controls",
            "_model_module_version": "1.5.0",
            "_model_name": "FloatProgressModel",
            "_view_count": null,
            "_view_module": "@jupyter-widgets/controls",
            "_view_module_version": "1.5.0",
            "_view_name": "ProgressView",
            "bar_style": "success",
            "description": "",
            "description_tooltip": null,
            "layout": "IPY_MODEL_abcd423d47c5459faa6c2f37a87186db",
            "max": 2,
            "min": 0,
            "orientation": "horizontal",
            "style": "IPY_MODEL_7cbda86d0dd1489c83b8034c9b8273d7",
            "value": 2
          }
        },
        "15f96ab451b7493fb911be15754311d5": {
          "model_module": "@jupyter-widgets/controls",
          "model_name": "HTMLModel",
          "model_module_version": "1.5.0",
          "state": {
            "_dom_classes": [],
            "_model_module": "@jupyter-widgets/controls",
            "_model_module_version": "1.5.0",
            "_model_name": "HTMLModel",
            "_view_count": null,
            "_view_module": "@jupyter-widgets/controls",
            "_view_module_version": "1.5.0",
            "_view_name": "HTMLView",
            "description": "",
            "description_tooltip": null,
            "layout": "IPY_MODEL_6f09b2d6ccf64def9eed7604f4bb62fe",
            "placeholder": "​",
            "style": "IPY_MODEL_6615f0d3a32b4995aa17dfd41d0b7bc1",
            "value": " 2/2 [01:06&lt;00:00, 30.49s/it]"
          }
        },
        "d5de8e2fb0984d5c840cd702f8448459": {
          "model_module": "@jupyter-widgets/base",
          "model_name": "LayoutModel",
          "model_module_version": "1.2.0",
          "state": {
            "_model_module": "@jupyter-widgets/base",
            "_model_module_version": "1.2.0",
            "_model_name": "LayoutModel",
            "_view_count": null,
            "_view_module": "@jupyter-widgets/base",
            "_view_module_version": "1.2.0",
            "_view_name": "LayoutView",
            "align_content": null,
            "align_items": null,
            "align_self": null,
            "border": null,
            "bottom": null,
            "display": null,
            "flex": null,
            "flex_flow": null,
            "grid_area": null,
            "grid_auto_columns": null,
            "grid_auto_flow": null,
            "grid_auto_rows": null,
            "grid_column": null,
            "grid_gap": null,
            "grid_row": null,
            "grid_template_areas": null,
            "grid_template_columns": null,
            "grid_template_rows": null,
            "height": null,
            "justify_content": null,
            "justify_items": null,
            "left": null,
            "margin": null,
            "max_height": null,
            "max_width": null,
            "min_height": null,
            "min_width": null,
            "object_fit": null,
            "object_position": null,
            "order": null,
            "overflow": null,
            "overflow_x": null,
            "overflow_y": null,
            "padding": null,
            "right": null,
            "top": null,
            "visibility": null,
            "width": null
          }
        },
        "81ba033c2dbc4eb0a52cb4a37cc4542c": {
          "model_module": "@jupyter-widgets/base",
          "model_name": "LayoutModel",
          "model_module_version": "1.2.0",
          "state": {
            "_model_module": "@jupyter-widgets/base",
            "_model_module_version": "1.2.0",
            "_model_name": "LayoutModel",
            "_view_count": null,
            "_view_module": "@jupyter-widgets/base",
            "_view_module_version": "1.2.0",
            "_view_name": "LayoutView",
            "align_content": null,
            "align_items": null,
            "align_self": null,
            "border": null,
            "bottom": null,
            "display": null,
            "flex": null,
            "flex_flow": null,
            "grid_area": null,
            "grid_auto_columns": null,
            "grid_auto_flow": null,
            "grid_auto_rows": null,
            "grid_column": null,
            "grid_gap": null,
            "grid_row": null,
            "grid_template_areas": null,
            "grid_template_columns": null,
            "grid_template_rows": null,
            "height": null,
            "justify_content": null,
            "justify_items": null,
            "left": null,
            "margin": null,
            "max_height": null,
            "max_width": null,
            "min_height": null,
            "min_width": null,
            "object_fit": null,
            "object_position": null,
            "order": null,
            "overflow": null,
            "overflow_x": null,
            "overflow_y": null,
            "padding": null,
            "right": null,
            "top": null,
            "visibility": null,
            "width": null
          }
        },
        "e146dc9a87d9495b9f865871a3b557e3": {
          "model_module": "@jupyter-widgets/controls",
          "model_name": "DescriptionStyleModel",
          "model_module_version": "1.5.0",
          "state": {
            "_model_module": "@jupyter-widgets/controls",
            "_model_module_version": "1.5.0",
            "_model_name": "DescriptionStyleModel",
            "_view_count": null,
            "_view_module": "@jupyter-widgets/base",
            "_view_module_version": "1.2.0",
            "_view_name": "StyleView",
            "description_width": ""
          }
        },
        "abcd423d47c5459faa6c2f37a87186db": {
          "model_module": "@jupyter-widgets/base",
          "model_name": "LayoutModel",
          "model_module_version": "1.2.0",
          "state": {
            "_model_module": "@jupyter-widgets/base",
            "_model_module_version": "1.2.0",
            "_model_name": "LayoutModel",
            "_view_count": null,
            "_view_module": "@jupyter-widgets/base",
            "_view_module_version": "1.2.0",
            "_view_name": "LayoutView",
            "align_content": null,
            "align_items": null,
            "align_self": null,
            "border": null,
            "bottom": null,
            "display": null,
            "flex": null,
            "flex_flow": null,
            "grid_area": null,
            "grid_auto_columns": null,
            "grid_auto_flow": null,
            "grid_auto_rows": null,
            "grid_column": null,
            "grid_gap": null,
            "grid_row": null,
            "grid_template_areas": null,
            "grid_template_columns": null,
            "grid_template_rows": null,
            "height": null,
            "justify_content": null,
            "justify_items": null,
            "left": null,
            "margin": null,
            "max_height": null,
            "max_width": null,
            "min_height": null,
            "min_width": null,
            "object_fit": null,
            "object_position": null,
            "order": null,
            "overflow": null,
            "overflow_x": null,
            "overflow_y": null,
            "padding": null,
            "right": null,
            "top": null,
            "visibility": null,
            "width": null
          }
        },
        "7cbda86d0dd1489c83b8034c9b8273d7": {
          "model_module": "@jupyter-widgets/controls",
          "model_name": "ProgressStyleModel",
          "model_module_version": "1.5.0",
          "state": {
            "_model_module": "@jupyter-widgets/controls",
            "_model_module_version": "1.5.0",
            "_model_name": "ProgressStyleModel",
            "_view_count": null,
            "_view_module": "@jupyter-widgets/base",
            "_view_module_version": "1.2.0",
            "_view_name": "StyleView",
            "bar_color": null,
            "description_width": ""
          }
        },
        "6f09b2d6ccf64def9eed7604f4bb62fe": {
          "model_module": "@jupyter-widgets/base",
          "model_name": "LayoutModel",
          "model_module_version": "1.2.0",
          "state": {
            "_model_module": "@jupyter-widgets/base",
            "_model_module_version": "1.2.0",
            "_model_name": "LayoutModel",
            "_view_count": null,
            "_view_module": "@jupyter-widgets/base",
            "_view_module_version": "1.2.0",
            "_view_name": "LayoutView",
            "align_content": null,
            "align_items": null,
            "align_self": null,
            "border": null,
            "bottom": null,
            "display": null,
            "flex": null,
            "flex_flow": null,
            "grid_area": null,
            "grid_auto_columns": null,
            "grid_auto_flow": null,
            "grid_auto_rows": null,
            "grid_column": null,
            "grid_gap": null,
            "grid_row": null,
            "grid_template_areas": null,
            "grid_template_columns": null,
            "grid_template_rows": null,
            "height": null,
            "justify_content": null,
            "justify_items": null,
            "left": null,
            "margin": null,
            "max_height": null,
            "max_width": null,
            "min_height": null,
            "min_width": null,
            "object_fit": null,
            "object_position": null,
            "order": null,
            "overflow": null,
            "overflow_x": null,
            "overflow_y": null,
            "padding": null,
            "right": null,
            "top": null,
            "visibility": null,
            "width": null
          }
        },
        "6615f0d3a32b4995aa17dfd41d0b7bc1": {
          "model_module": "@jupyter-widgets/controls",
          "model_name": "DescriptionStyleModel",
          "model_module_version": "1.5.0",
          "state": {
            "_model_module": "@jupyter-widgets/controls",
            "_model_module_version": "1.5.0",
            "_model_name": "DescriptionStyleModel",
            "_view_count": null,
            "_view_module": "@jupyter-widgets/base",
            "_view_module_version": "1.2.0",
            "_view_name": "StyleView",
            "description_width": ""
          }
        }
      }
    }
  },
  "cells": [
    {
      "cell_type": "code",
      "execution_count": null,
      "metadata": {
        "id": "1NMpas5Rou4e"
      },
      "outputs": [],
      "source": [
        "!pip install -q transformers langchain accelerate"
      ]
    },
    {
      "cell_type": "code",
      "source": [
        "!huggingface-cli login"
      ],
      "metadata": {
        "colab": {
          "base_uri": "https://localhost:8080/"
        },
        "id": "a7XqK1D27sqF",
        "outputId": "1db2aa11-8858-4984-ea94-bed1909948a4"
      },
      "execution_count": null,
      "outputs": [
        {
          "output_type": "stream",
          "name": "stdout",
          "text": [
            "\n",
            "    _|    _|  _|    _|    _|_|_|    _|_|_|  _|_|_|  _|      _|    _|_|_|      _|_|_|_|    _|_|      _|_|_|  _|_|_|_|\n",
            "    _|    _|  _|    _|  _|        _|          _|    _|_|    _|  _|            _|        _|    _|  _|        _|\n",
            "    _|_|_|_|  _|    _|  _|  _|_|  _|  _|_|    _|    _|  _|  _|  _|  _|_|      _|_|_|    _|_|_|_|  _|        _|_|_|\n",
            "    _|    _|  _|    _|  _|    _|  _|    _|    _|    _|    _|_|  _|    _|      _|        _|    _|  _|        _|\n",
            "    _|    _|    _|_|      _|_|_|    _|_|_|  _|_|_|  _|      _|    _|_|_|      _|        _|    _|    _|_|_|  _|_|_|_|\n",
            "    \n",
            "    A token is already saved on your machine. Run `huggingface-cli whoami` to get more information or `huggingface-cli logout` if you want to log out.\n",
            "    Setting a new token will erase the existing one.\n",
            "    To login, `huggingface_hub` requires a token generated from https://huggingface.co/settings/tokens .\n",
            "Token: \n",
            "Add token as git credential? (Y/n) y\n",
            "Token is valid (permission: read).\n",
            "\u001b[1m\u001b[31mCannot authenticate through git-credential as no helper is defined on your machine.\n",
            "You might have to re-authenticate when pushing to the Hugging Face Hub.\n",
            "Run the following command in your terminal in case you want to set the 'store' credential helper as default.\n",
            "\n",
            "git config --global credential.helper store\n",
            "\n",
            "Read https://git-scm.com/book/en/v2/Git-Tools-Credential-Storage for more details.\u001b[0m\n",
            "Token has not been saved to git credential helper.\n",
            "Your token has been saved to /root/.cache/huggingface/token\n",
            "Login successful\n"
          ]
        }
      ]
    },
    {
      "cell_type": "code",
      "source": [
        "!pip install PyPDF2"
      ],
      "metadata": {
        "colab": {
          "base_uri": "https://localhost:8080/"
        },
        "id": "Q-EElEVuRitR",
        "outputId": "c98b5d58-7f69-4b4d-9c71-98d2a0203ec2"
      },
      "execution_count": null,
      "outputs": [
        {
          "output_type": "stream",
          "name": "stdout",
          "text": [
            "Requirement already satisfied: PyPDF2 in /usr/local/lib/python3.10/dist-packages (3.0.1)\n"
          ]
        }
      ]
    },
    {
      "cell_type": "code",
      "source": [
        "import torch\n",
        "import transformers\n",
        "from transformers import AutoTokenizer\n",
        "from langchain import LLMChain, HuggingFacePipeline, PromptTemplate"
      ],
      "metadata": {
        "id": "_cxlRJD-8afL"
      },
      "execution_count": null,
      "outputs": []
    },
    {
      "cell_type": "code",
      "source": [
        "model = \"meta-llama/Llama-2-7b-chat-hf\"\n"
      ],
      "metadata": {
        "id": "7IWZuGTS8g2z"
      },
      "execution_count": null,
      "outputs": []
    },
    {
      "cell_type": "code",
      "source": [
        "tokenizer = AutoTokenizer.from_pretrained(model)"
      ],
      "metadata": {
        "id": "NOnRTuWLB2Qa"
      },
      "execution_count": null,
      "outputs": []
    },
    {
      "cell_type": "code",
      "source": [
        "# Setting-up Language generation Pipeline\n",
        "\n",
        "pipeline = transformers.pipeline(\n",
        "    \"text-generation\", #task\n",
        "    model=model,\n",
        "    tokenizer=tokenizer,\n",
        "    torch_dtype=torch.bfloat16,\n",
        "    trust_remote_code=True,\n",
        "    device_map=\"auto\",\n",
        "    max_length=3000,\n",
        "    do_sample=True,\n",
        "    top_k=10,\n",
        "    num_return_sequences=1,\n",
        "    eos_token_id=tokenizer.eos_token_id,\n",
        ")"
      ],
      "metadata": {
        "colab": {
          "base_uri": "https://localhost:8080/",
          "height": 49,
          "referenced_widgets": [
            "31d5636d1c4e4339b21e2dd0e3e55584",
            "292e403f0f2b42e9acad9e5505735710",
            "d38297882316438d921aff496243e4e5",
            "15f96ab451b7493fb911be15754311d5",
            "d5de8e2fb0984d5c840cd702f8448459",
            "81ba033c2dbc4eb0a52cb4a37cc4542c",
            "e146dc9a87d9495b9f865871a3b557e3",
            "abcd423d47c5459faa6c2f37a87186db",
            "7cbda86d0dd1489c83b8034c9b8273d7",
            "6f09b2d6ccf64def9eed7604f4bb62fe",
            "6615f0d3a32b4995aa17dfd41d0b7bc1"
          ]
        },
        "id": "Ay-rbaOi8sb7",
        "outputId": "0e5eebc7-fcc9-489e-8d9e-440b8e05d695"
      },
      "execution_count": null,
      "outputs": [
        {
          "output_type": "display_data",
          "data": {
            "text/plain": [
              "Loading checkpoint shards:   0%|          | 0/2 [00:00<?, ?it/s]"
            ],
            "application/vnd.jupyter.widget-view+json": {
              "version_major": 2,
              "version_minor": 0,
              "model_id": "31d5636d1c4e4339b21e2dd0e3e55584"
            }
          },
          "metadata": {}
        }
      ]
    },
    {
      "cell_type": "code",
      "source": [
        "#setting the model’s ‘temperature’ parameter, which influences the randomness of predictions\n",
        "llm = HuggingFacePipeline(pipeline = pipeline, model_kwargs = {'temperature':0})"
      ],
      "metadata": {
        "id": "90x6kV3M8x88"
      },
      "execution_count": null,
      "outputs": []
    },
    {
      "cell_type": "code",
      "source": [
        "from langchain import PromptTemplate,  LLMChain\n",
        "\n",
        "template = \"\"\"\n",
        "              Write a concise summary of the following text delimited by triple backquotes.\n",
        "              Return your response in bullet points which covers the key points of the text.\n",
        "              ```{text}```\n",
        "              BULLET POINT SUMMARY:\n",
        "           \"\"\"\n",
        "\n",
        "prompt = PromptTemplate(template=template, input_variables=[\"text\"])\n",
        "\n",
        "llm_chain = LLMChain(prompt=prompt, llm=llm)"
      ],
      "metadata": {
        "id": "HCUwtqMe-3Ba"
      },
      "execution_count": null,
      "outputs": []
    },
    {
      "cell_type": "code",
      "source": [
        "# text = \"\"\"\n",
        "# What are Large Language Models LLMs httpswwwanalyticsvidhyacomblog202303anintroductiontolargelanguagemodelsllms 110Home Suvojit Hore  Updated On August 11th 2023 BERT chatbot Deep Learning Intermediate Machine LearningWhat are Large Language Models LLM s  Large Language Models LLMs are foundational machine learning models that use deep learning algorithms to process and understand natural language These models are trained on massive amounts of text data to learn patterns and entity relationships in the language LLMs can perform many types of language tasks such as translating languages analyzing sentiments chatbot conversations and more They can understand complex textual data identify entities and relationships between them and generate new text that is coherent and grammatically accurate Learning Objectives Understand the concept of Large Language Models LLMs and their importance in natural language processing Know about different types of popular LLMs such as BERT GPT3 and T5 Discuss the applications and use cases of Open Source LLMs Hugging Face APIs for LLMs Explore the future implications of LLMs including their potential impact on job markets communication and society as a whole This article was published as a part of the Data Science Blogathon Table of contents What is a Large Language Model How a Large Language Model Is Built General Architecture Examples of LLMs Open Source Large Language Models Bloom Architecture Hugging Face APIs Example 1 Sentence Completion Example 2 Question Answers Example 3 Summarization Future Implications of LLMs Conclusion Frequently Asked Questions We use cookies on Analytics Vidhya websites to deliver our services analyze web trafc and improve your experience on the site By using Analytics Vidhya you agree to our Privacy Policy and Terms of Use Accept102923 637 PM What are Large Language Models LLMs httpswwwanalyticsvidhyacomblog202303anintroductiontolargelanguagemodelsllms 210 Building MultiStage Reasoning Systems\n",
        "# \"\"\""
      ],
      "metadata": {
        "id": "nxkvElrn-5mp"
      },
      "execution_count": null,
      "outputs": []
    },
    {
      "cell_type": "code",
      "source": [
        "# print(llm_chain.run(text))"
      ],
      "metadata": {
        "id": "-gFSLcUv_Ewk"
      },
      "execution_count": null,
      "outputs": []
    },
    {
      "cell_type": "code",
      "source": [
        "# importing required modules\n",
        "from PyPDF2 import PdfReader"
      ],
      "metadata": {
        "id": "8ST_zbHmT5IF"
      },
      "execution_count": null,
      "outputs": []
    },
    {
      "cell_type": "code",
      "source": [
        "def read_pdf(file_path):\n",
        "  # Open the PDF file in binary mode\n",
        "  # Create a PDF reader object\n",
        "  pdf_reader = PdfReader(file_path)\n",
        "\n",
        "  # Check if the PDF file is encrypted\n",
        "  if pdf_reader.is_encrypted:\n",
        "      # If encrypted, prompt for password and decrypt the file\n",
        "      password = input(\"Enter the password for the PDF file: \")\n",
        "      pdf_reader.decrypt(password)\n",
        "\n",
        "  # Get the total number of pages in the PDF\n",
        "  total_pages = pdf_reader.pages\n",
        "\n",
        "  # Initialize an empty string to store the text content\n",
        "  text_content = \"\"\n",
        "\n",
        "  # Loop through all pages and extract text\n",
        "  for page_number in range(len(total_pages)):\n",
        "      try:\n",
        "          page = pdf_reader.pages[page_number]\n",
        "          text = page.extract_text()\n",
        "          text_content += text\n",
        "      except Exception as e:\n",
        "          # If text extraction fails for a page, handle the exception\n",
        "          print(f\"Error extracting text from page {page_number + 1}: {e}\")\n",
        "          continue\n",
        "\n",
        "  return text_content"
      ],
      "metadata": {
        "id": "SzL6zWE7_F2Z"
      },
      "execution_count": null,
      "outputs": []
    },
    {
      "cell_type": "code",
      "source": [
        "# Replace 'your_file_path.pdf' with the actual path of your PDF file\n",
        "pdf_file_path = '/content/tp.pdf'\n",
        "pdf_text_content = read_pdf(pdf_file_path)"
      ],
      "metadata": {
        "id": "2IQe4iAyRpiG"
      },
      "execution_count": null,
      "outputs": []
    },
    {
      "cell_type": "code",
      "source": [
        "import re\n",
        "\n",
        "def clean_text(text_content):\n",
        "    # Remove multiple whitespaces and newlines\n",
        "    cleaned_text = re.sub(r'\\s+', ' ', text_content)\n",
        "\n",
        "    # Remove leading and trailing whitespaces\n",
        "    cleaned_text = cleaned_text.strip()\n",
        "\n",
        "    # Remove special characters and symbols\n",
        "    cleaned_text = re.sub(r'[^\\w\\s]', '', cleaned_text)\n",
        "\n",
        "    return cleaned_text"
      ],
      "metadata": {
        "id": "95pgVDqVRqCO"
      },
      "execution_count": null,
      "outputs": []
    },
    {
      "cell_type": "code",
      "source": [
        "# Example usage:\n",
        "# Replace 'pdf_text_content' with the actual text content extracted from the PDF\n",
        "# pdf_text_content\n",
        "\n",
        "# Clean the text\n",
        "cleaned_text = clean_text(pdf_text_content)\n",
        "print(cleaned_text)"
      ],
      "metadata": {
        "colab": {
          "base_uri": "https://localhost:8080/"
        },
        "id": "uG4yrKPaR11y",
        "outputId": "ea1ac036-80e2-4c2c-c330-e10395903493"
      },
      "execution_count": null,
      "outputs": [
        {
          "output_type": "stream",
          "name": "stdout",
          "text": [
            "Auto Accident Report Form Keep In Your Glove Box When an accident occurs First Steps Do Not Say While Still At the Scene  Remain calm  Get to a safe place  Check for injuries  Administer First Aid  Call policeEMT  Its all my fault even if it is  My insurance will pay for everything  Its OK I have full coverage  Get as much information as possible on this report  Take Pictures  When the police come cooperate and tell them what you know Accident Details DayDateTime AMPM WeatherRoad Conditions Location of Accident Accident Details Damage Descriptions Your Vehicle Other Vehicle Towing Company Name  Phone Towing Company Name  Phone Other DriverVehicle Information Owners Name Owners Address Owners Phone Vehicle Make Vehicle Model  Year Vehicle Color License Plate Number Insurance Company Agent Name  Phone Other Drivers Name Other Drivers Address Other Drivers Phone Monday 03152023 1030AM Mild Elm Street and Oak Avenue Two vehicles a red sedan and a blue SUV collided at the intersection Both drivers reported minor injuries The sedan driver failed to stop at a red light causing the accident Moderate damage to driver side Moderate damage to front of vehicle John Smith Sedan Red PassengersInjuries Your Vehicle Other Vehicle  Passengers  Passengers Police Information Officer Name Department Phone Badge Number Other Info Witness Information Name Name Address Address Home Phone Home Phone Work Phone Work Phone Sketch The Accident Scene Not applicaple Not applicaple Not applicaple Not applicaple\n"
          ]
        }
      ]
    },
    {
      "cell_type": "code",
      "source": [
        "def split_into_paragraphs(cleaned_text):\n",
        "    # Split the cleaned text into paragraphs using double newline characters as a delimiter\n",
        "    paragraphs = cleaned_text.split('\\n\\n')\n",
        "\n",
        "    return paragraphs"
      ],
      "metadata": {
        "id": "pPYkL-JxR6q4"
      },
      "execution_count": null,
      "outputs": []
    },
    {
      "cell_type": "code",
      "source": [
        "paragraphs = split_into_paragraphs(cleaned_text)"
      ],
      "metadata": {
        "id": "m9aSuRiRR-L4"
      },
      "execution_count": null,
      "outputs": []
    },
    {
      "cell_type": "code",
      "source": [
        "# Print each paragraph\n",
        "for i, paragraph in enumerate(paragraphs, start=1):\n",
        "    # print(f\"Paragraph {i}: {paragraph}\")\n",
        "    print(llm_chain.run(paragraph))"
      ],
      "metadata": {
        "colab": {
          "base_uri": "https://localhost:8080/"
        },
        "id": "bh4736hfR-p0",
        "outputId": "a35161b9-fb66-4e97-e821-9b6883253ae0"
      },
      "execution_count": null,
      "outputs": [
        {
          "output_type": "stream",
          "name": "stdout",
          "text": [
            " • When an accident occurs, remain calm and get to a safe place.\n",
            "            • Check for injuries and administer first aid if necessary.\n",
            "            • Call the police and emergency medical services (EMS).\n",
            "            • Fill out the accident report form and provide as much information as possible.\n",
            "            • Take pictures of the accident scene and any damage to vehicles.\n",
            "            • Cooperate with the police and provide them with any information you know.\n",
            "            • Provide your insurance information to the other driver.\n",
            "            • Get the other driver's information, including their name, address, phone number, and insurance information.\n",
            "            • If there were any witnesses, gather their information as well.\n",
            "            • Notify your insurance agent as soon as possible.\n",
            "            • Keep the accident report form in your glove box for future reference.\n",
            "\n",
            "\n"
          ]
        }
      ]
    },
    {
      "cell_type": "code",
      "source": [],
      "metadata": {
        "id": "6xbKBM_MT8EZ"
      },
      "execution_count": null,
      "outputs": []
    }
  ]
}